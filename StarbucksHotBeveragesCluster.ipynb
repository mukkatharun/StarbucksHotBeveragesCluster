{
  "nbformat": 4,
  "nbformat_minor": 0,
  "metadata": {
    "colab": {
      "name": "StarbucksHotBeveragesCluster.ipynb",
      "provenance": [],
      "authorship_tag": "ABX9TyPiD479WRp7CGgg3LUeIbbO",
      "include_colab_link": true
    },
    "kernelspec": {
      "name": "python3",
      "display_name": "Python 3"
    },
    "language_info": {
      "name": "python"
    }
  },
  "cells": [
    {
      "cell_type": "markdown",
      "metadata": {
        "id": "view-in-github",
        "colab_type": "text"
      },
      "source": [
        "<a href=\"https://colab.research.google.com/github/mukkatharun/StarbucksHotBeveragesCluster/blob/main/StarbucksHotBeveragesCluster.ipynb\" target=\"_parent\"><img src=\"https://colab.research.google.com/assets/colab-badge.svg\" alt=\"Open In Colab\"/></a>"
      ]
    },
    {
      "cell_type": "code",
      "metadata": {
        "id": "tRaPSv-PIAvB"
      },
      "source": [
        "import pandas as pd\n",
        "import matplotlib.pyplot as plt\n",
        "import scipy\n",
        "from scipy.cluster.hierarchy import dendrogram, linkage  \n",
        "from sklearn.cluster import AgglomerativeClustering"
      ],
      "execution_count": 1,
      "outputs": []
    },
    {
      "cell_type": "code",
      "metadata": {
        "colab": {
          "base_uri": "https://localhost:8080/",
          "height": 613
        },
        "id": "eQDhe5-pIQRZ",
        "outputId": "87e686ea-33e5-4650-88f3-aba5396e691d"
      },
      "source": [
        "\n",
        "data = [[1,5],[1,7],[2,6],[2,9],[3,3],[3,6],[3,8],[3,9],[4,5],[4,8],[5,4],[5,7],[6,9],[7,2],[7,3],[7,9],[8,1],[8,7]]\n",
        "df = pd.DataFrame(data, columns= ['P1','P2'])\n",
        "df"
      ],
      "execution_count": 3,
      "outputs": [
        {
          "output_type": "execute_result",
          "data": {
            "text/html": [
              "<div>\n",
              "<style scoped>\n",
              "    .dataframe tbody tr th:only-of-type {\n",
              "        vertical-align: middle;\n",
              "    }\n",
              "\n",
              "    .dataframe tbody tr th {\n",
              "        vertical-align: top;\n",
              "    }\n",
              "\n",
              "    .dataframe thead th {\n",
              "        text-align: right;\n",
              "    }\n",
              "</style>\n",
              "<table border=\"1\" class=\"dataframe\">\n",
              "  <thead>\n",
              "    <tr style=\"text-align: right;\">\n",
              "      <th></th>\n",
              "      <th>P1</th>\n",
              "      <th>P2</th>\n",
              "    </tr>\n",
              "  </thead>\n",
              "  <tbody>\n",
              "    <tr>\n",
              "      <th>0</th>\n",
              "      <td>1</td>\n",
              "      <td>5</td>\n",
              "    </tr>\n",
              "    <tr>\n",
              "      <th>1</th>\n",
              "      <td>1</td>\n",
              "      <td>7</td>\n",
              "    </tr>\n",
              "    <tr>\n",
              "      <th>2</th>\n",
              "      <td>2</td>\n",
              "      <td>6</td>\n",
              "    </tr>\n",
              "    <tr>\n",
              "      <th>3</th>\n",
              "      <td>2</td>\n",
              "      <td>9</td>\n",
              "    </tr>\n",
              "    <tr>\n",
              "      <th>4</th>\n",
              "      <td>3</td>\n",
              "      <td>3</td>\n",
              "    </tr>\n",
              "    <tr>\n",
              "      <th>5</th>\n",
              "      <td>3</td>\n",
              "      <td>6</td>\n",
              "    </tr>\n",
              "    <tr>\n",
              "      <th>6</th>\n",
              "      <td>3</td>\n",
              "      <td>8</td>\n",
              "    </tr>\n",
              "    <tr>\n",
              "      <th>7</th>\n",
              "      <td>3</td>\n",
              "      <td>9</td>\n",
              "    </tr>\n",
              "    <tr>\n",
              "      <th>8</th>\n",
              "      <td>4</td>\n",
              "      <td>5</td>\n",
              "    </tr>\n",
              "    <tr>\n",
              "      <th>9</th>\n",
              "      <td>4</td>\n",
              "      <td>8</td>\n",
              "    </tr>\n",
              "    <tr>\n",
              "      <th>10</th>\n",
              "      <td>5</td>\n",
              "      <td>4</td>\n",
              "    </tr>\n",
              "    <tr>\n",
              "      <th>11</th>\n",
              "      <td>5</td>\n",
              "      <td>7</td>\n",
              "    </tr>\n",
              "    <tr>\n",
              "      <th>12</th>\n",
              "      <td>6</td>\n",
              "      <td>9</td>\n",
              "    </tr>\n",
              "    <tr>\n",
              "      <th>13</th>\n",
              "      <td>7</td>\n",
              "      <td>2</td>\n",
              "    </tr>\n",
              "    <tr>\n",
              "      <th>14</th>\n",
              "      <td>7</td>\n",
              "      <td>3</td>\n",
              "    </tr>\n",
              "    <tr>\n",
              "      <th>15</th>\n",
              "      <td>7</td>\n",
              "      <td>9</td>\n",
              "    </tr>\n",
              "    <tr>\n",
              "      <th>16</th>\n",
              "      <td>8</td>\n",
              "      <td>1</td>\n",
              "    </tr>\n",
              "    <tr>\n",
              "      <th>17</th>\n",
              "      <td>8</td>\n",
              "      <td>7</td>\n",
              "    </tr>\n",
              "  </tbody>\n",
              "</table>\n",
              "</div>"
            ],
            "text/plain": [
              "    P1  P2\n",
              "0    1   5\n",
              "1    1   7\n",
              "2    2   6\n",
              "3    2   9\n",
              "4    3   3\n",
              "5    3   6\n",
              "6    3   8\n",
              "7    3   9\n",
              "8    4   5\n",
              "9    4   8\n",
              "10   5   4\n",
              "11   5   7\n",
              "12   6   9\n",
              "13   7   2\n",
              "14   7   3\n",
              "15   7   9\n",
              "16   8   1\n",
              "17   8   7"
            ]
          },
          "metadata": {},
          "execution_count": 3
        }
      ]
    },
    {
      "cell_type": "code",
      "metadata": {
        "colab": {
          "base_uri": "https://localhost:8080/",
          "height": 445
        },
        "id": "3l3tHdgeImxZ",
        "outputId": "20eea874-61ac-4c6b-e975-ef026d69df49"
      },
      "source": [
        "plt.figure(figsize=(10, 7))\n",
        "plt.scatter(df['P1'],df['P2'])"
      ],
      "execution_count": 5,
      "outputs": [
        {
          "output_type": "execute_result",
          "data": {
            "text/plain": [
              "<matplotlib.collections.PathCollection at 0x7f539e468810>"
            ]
          },
          "metadata": {},
          "execution_count": 5
        },
        {
          "output_type": "display_data",
          "data": {
            "image/png": "[encoded data removed]",
            "text/plain": [
              "<Figure size 720x504 with 1 Axes>"
            ]
          },
          "metadata": {
            "needs_background": "light"
          }
        }
      ]
    },
    {
      "cell_type": "code",
      "metadata": {
        "colab": {
          "base_uri": "https://localhost:8080/",
          "height": 1000
        },
        "id": "W2Ya5cG6I2UQ",
        "outputId": "0e791b2a-3864-4181-e7fe-b1537cdc3a2b"
      },
      "source": [
        "linked = linkage(df, 'single')\n",
        "labelList= range(1, 19)\n",
        "plt.figure(figsize=(10, 7))\n",
        "dendrogram(linked, orientation='top', labels=labelList, distance_sort='descending', show_leaf_counts=True)"
      ],
      "execution_count": 18,
      "outputs": [
        {
          "output_type": "execute_result",
          "data": {
            "text/plain": [
              "{'color_list': ['g',\n",
              "  'g',\n",
              "  'r',\n",
              "  'c',\n",
              "  'c',\n",
              "  'c',\n",
              "  'c',\n",
              "  'c',\n",
              "  'm',\n",
              "  'm',\n",
              "  'm',\n",
              "  'm',\n",
              "  'b',\n",
              "  'b',\n",
              "  'b',\n",
              "  'b',\n",
              "  'b'],\n",
              " 'dcoord': [[0.0, 1.0, 1.0, 0.0],\n",
              "  [0.0, 1.4142135623730951, 1.4142135623730951, 1.0],\n",
              "  [0.0, 1.0, 1.0, 0.0],\n",
              "  [0.0, 1.0, 1.0, 0.0],\n",
              "  [0.0, 1.4142135623730951, 1.4142135623730951, 1.0],\n",
              "  [0.0, 1.4142135623730951, 1.4142135623730951, 1.4142135623730951],\n",
              "  [0.0, 1.4142135623730951, 1.4142135623730951, 1.4142135623730951],\n",
              "  [0.0, 1.4142135623730951, 1.4142135623730951, 1.4142135623730951],\n",
              "  [0.0, 1.0, 1.0, 0.0],\n",
              "  [0.0, 1.0, 1.0, 1.0],\n",
              "  [0.0, 1.0, 1.0, 1.0],\n",
              "  [0.0, 1.4142135623730951, 1.4142135623730951, 1.0],\n",
              "  [1.4142135623730951, 2.0, 2.0, 1.4142135623730951],\n",
              "  [0.0, 2.23606797749979, 2.23606797749979, 2.0],\n",
              "  [1.0, 2.23606797749979, 2.23606797749979, 2.23606797749979],\n",
              "  [1.4142135623730951, 2.23606797749979, 2.23606797749979, 2.23606797749979],\n",
              "  [0.0, 2.23606797749979, 2.23606797749979, 2.23606797749979]],\n",
              " 'icoord': [[25.0, 25.0, 35.0, 35.0],\n",
              "  [15.0, 15.0, 30.0, 30.0],\n",
              "  [45.0, 45.0, 55.0, 55.0],\n",
              "  [115.0, 115.0, 125.0, 125.0],\n",
              "  [105.0, 105.0, 120.0, 120.0],\n",
              "  [95.0, 95.0, 112.5, 112.5],\n",
              "  [85.0, 85.0, 103.75, 103.75],\n",
              "  [75.0, 75.0, 94.375, 94.375],\n",
              "  [165.0, 165.0, 175.0, 175.0],\n",
              "  [155.0, 155.0, 170.0, 170.0],\n",
              "  [145.0, 145.0, 162.5, 162.5],\n",
              "  [135.0, 135.0, 153.75, 153.75],\n",
              "  [84.6875, 84.6875, 144.375, 144.375],\n",
              "  [65.0, 65.0, 114.53125, 114.53125],\n",
              "  [50.0, 50.0, 89.765625, 89.765625],\n",
              "  [22.5, 22.5, 69.8828125, 69.8828125],\n",
              "  [5.0, 5.0, 46.19140625, 46.19140625]],\n",
              " 'ivl': [18, 17, 14, 15, 13, 16, 5, 11, 9, 2, 1, 3, 6, 12, 10, 4, 7, 8],\n",
              " 'leaves': [17, 16, 13, 14, 12, 15, 4, 10, 8, 1, 0, 2, 5, 11, 9, 3, 6, 7]}"
            ]
          },
          "metadata": {},
          "execution_count": 18
        },
        {
          "output_type": "display_data",
          "data": {
            "image/png": "[encoded data removed]",
            "text/plain": [
              "<Figure size 720x504 with 1 Axes>"
            ]
          },
          "metadata": {
            "needs_background": "light"
          }
        }
      ]
    },
    {
      "cell_type": "code",
      "metadata": {
        "colab": {
          "base_uri": "https://localhost:8080/",
          "height": 1000
        },
        "id": "agDoogH1LB4c",
        "outputId": "25c9af15-129b-4b53-fa36-496bfe895fb5"
      },
      "source": [
        "linked = linkage(df, 'complete')\n",
        "labelList= range(1, 19)\n",
        "plt.figure(figsize=(10, 7))\n",
        "dendrogram(linked,  orientation='top',labels=labelList,distance_sort='descending',show_leaf_counts=True)"
      ],
      "execution_count": 16,
      "outputs": [
        {
          "output_type": "execute_result",
          "data": {
            "text/plain": [
              "{'color_list': ['g',\n",
              "  'g',\n",
              "  'g',\n",
              "  'g',\n",
              "  'g',\n",
              "  'r',\n",
              "  'r',\n",
              "  'r',\n",
              "  'c',\n",
              "  'c',\n",
              "  'c',\n",
              "  'c',\n",
              "  'c',\n",
              "  'c',\n",
              "  'c',\n",
              "  'b',\n",
              "  'b'],\n",
              " 'dcoord': [[0.0, 1.4142135623730951, 1.4142135623730951, 0.0],\n",
              "  [0.0, 2.23606797749979, 2.23606797749979, 1.4142135623730951],\n",
              "  [0.0, 1.0, 1.0, 0.0],\n",
              "  [0.0, 2.23606797749979, 2.23606797749979, 1.0],\n",
              "  [2.23606797749979, 5.656854249492381, 5.656854249492381, 2.23606797749979],\n",
              "  [0.0, 1.0, 1.0, 0.0],\n",
              "  [0.0, 2.8284271247461903, 2.8284271247461903, 1.0],\n",
              "  [0.0, 3.0, 3.0, 2.8284271247461903],\n",
              "  [0.0, 1.0, 1.0, 0.0],\n",
              "  [0.0, 2.0, 2.0, 0.0],\n",
              "  [1.0, 2.23606797749979, 2.23606797749979, 2.0],\n",
              "  [0.0, 1.0, 1.0, 0.0],\n",
              "  [0.0, 1.0, 1.0, 0.0],\n",
              "  [1.0, 2.23606797749979, 2.23606797749979, 1.0],\n",
              "  [2.23606797749979, 4.47213595499958, 4.47213595499958, 2.23606797749979],\n",
              "  [3.0, 7.280109889280518, 7.280109889280518, 4.47213595499958],\n",
              "  [5.656854249492381, 10.0, 10.0, 7.280109889280518]],\n",
              " 'icoord': [[15.0, 15.0, 25.0, 25.0],\n",
              "  [5.0, 5.0, 20.0, 20.0],\n",
              "  [45.0, 45.0, 55.0, 55.0],\n",
              "  [35.0, 35.0, 50.0, 50.0],\n",
              "  [12.5, 12.5, 42.5, 42.5],\n",
              "  [85.0, 85.0, 95.0, 95.0],\n",
              "  [75.0, 75.0, 90.0, 90.0],\n",
              "  [65.0, 65.0, 82.5, 82.5],\n",
              "  [105.0, 105.0, 115.0, 115.0],\n",
              "  [125.0, 125.0, 135.0, 135.0],\n",
              "  [110.0, 110.0, 130.0, 130.0],\n",
              "  [145.0, 145.0, 155.0, 155.0],\n",
              "  [165.0, 165.0, 175.0, 175.0],\n",
              "  [150.0, 150.0, 170.0, 170.0],\n",
              "  [120.0, 120.0, 160.0, 160.0],\n",
              "  [73.75, 73.75, 140.0, 140.0],\n",
              "  [27.5, 27.5, 106.875, 106.875]],\n",
              " 'ivl': [5, 9, 11, 17, 14, 15, 18, 12, 13, 16, 3, 6, 1, 2, 4, 8, 7, 10],\n",
              " 'leaves': [4, 8, 10, 16, 13, 14, 17, 11, 12, 15, 2, 5, 0, 1, 3, 7, 6, 9]}"
            ]
          },
          "metadata": {},
          "execution_count": 16
        },
        {
          "output_type": "display_data",
          "data": {
            "image/png": "[encoded data removed]",
            "text/plain": [
              "<Figure size 720x504 with 1 Axes>"
            ]
          },
          "metadata": {
            "needs_background": "light"
          }
        }
      ]
    },
    {
      "cell_type": "code",
      "metadata": {
        "colab": {
          "base_uri": "https://localhost:8080/",
          "height": 1000
        },
        "id": "Ss1dvD02NElP",
        "outputId": "624f3441-1d4b-4eb3-f516-667a1d3154d4"
      },
      "source": [
        "linked = linkage(df, 'average')\n",
        "labelList= range(1, 19)\n",
        "plt.figure(figsize=(10, 7))\n",
        "dendrogram(linked,  orientation='top',labels=labelList,distance_sort='descending',show_leaf_counts=True)"
      ],
      "execution_count": 15,
      "outputs": [
        {
          "output_type": "execute_result",
          "data": {
            "text/plain": [
              "{'color_list': ['g',\n",
              "  'g',\n",
              "  'r',\n",
              "  'r',\n",
              "  'c',\n",
              "  'c',\n",
              "  'c',\n",
              "  'c',\n",
              "  'c',\n",
              "  'c',\n",
              "  'c',\n",
              "  'c',\n",
              "  'c',\n",
              "  'c',\n",
              "  'c',\n",
              "  'b',\n",
              "  'b'],\n",
              " 'dcoord': [[0.0, 1.0, 1.0, 0.0],\n",
              "  [0.0, 1.8251407699364424, 1.8251407699364424, 1.0],\n",
              "  [0.0, 1.0, 1.0, 0.0],\n",
              "  [0.0, 2.53224755112299, 2.53224755112299, 1.0],\n",
              "  [0.0, 1.4142135623730951, 1.4142135623730951, 0.0],\n",
              "  [0.0, 2.23606797749979, 2.23606797749979, 1.4142135623730951],\n",
              "  [0.0, 1.0, 1.0, 0.0],\n",
              "  [0.0, 1.8251407699364424, 1.8251407699364424, 1.0],\n",
              "  [0.0, 1.8834271799576283, 1.8834271799576283, 1.8251407699364424],\n",
              "  [0.0, 1.0, 1.0, 0.0],\n",
              "  [0.0, 1.0, 1.0, 0.0],\n",
              "  [1.0, 1.516123775561495, 1.516123775561495, 1.0],\n",
              "  [0.0, 2.5210649850207663, 2.5210649850207663, 1.516123775561495],\n",
              "  [1.8834271799576283,\n",
              "   3.1200937137932474,\n",
              "   3.1200937137932474,\n",
              "   2.5210649850207663],\n",
              "  [2.23606797749979, 3.916097077068589, 3.916097077068589, 3.1200937137932474],\n",
              "  [2.53224755112299, 4.931473010057112, 4.931473010057112, 3.916097077068589],\n",
              "  [1.8251407699364424,\n",
              "   6.391476114884855,\n",
              "   6.391476114884855,\n",
              "   4.931473010057112]],\n",
              " 'icoord': [[15.0, 15.0, 25.0, 25.0],\n",
              "  [5.0, 5.0, 20.0, 20.0],\n",
              "  [45.0, 45.0, 55.0, 55.0],\n",
              "  [35.0, 35.0, 50.0, 50.0],\n",
              "  [75.0, 75.0, 85.0, 85.0],\n",
              "  [65.0, 65.0, 80.0, 80.0],\n",
              "  [115.0, 115.0, 125.0, 125.0],\n",
              "  [105.0, 105.0, 120.0, 120.0],\n",
              "  [95.0, 95.0, 112.5, 112.5],\n",
              "  [145.0, 145.0, 155.0, 155.0],\n",
              "  [165.0, 165.0, 175.0, 175.0],\n",
              "  [150.0, 150.0, 170.0, 170.0],\n",
              "  [135.0, 135.0, 160.0, 160.0],\n",
              "  [103.75, 103.75, 147.5, 147.5],\n",
              "  [72.5, 72.5, 125.625, 125.625],\n",
              "  [42.5, 42.5, 99.0625, 99.0625],\n",
              "  [12.5, 12.5, 70.78125, 70.78125]],\n",
              " 'ivl': [17, 14, 15, 18, 13, 16, 5, 9, 11, 2, 1, 3, 6, 12, 4, 8, 7, 10],\n",
              " 'leaves': [16, 13, 14, 17, 12, 15, 4, 8, 10, 1, 0, 2, 5, 11, 3, 7, 6, 9]}"
            ]
          },
          "metadata": {},
          "execution_count": 15
        },
        {
          "output_type": "display_data",
          "data": {
            "image/png": "[encoded data removed]",
            "text/plain": [
              "<Figure size 720x504 with 1 Axes>"
            ]
          },
          "metadata": {
            "needs_background": "light"
          }
        }
      ]
    },
    {
      "cell_type": "code",
      "metadata": {
        "id": "EUv7cE3lNit8"
      },
      "source": [
        ""
      ],
      "execution_count": null,
      "outputs": []
    }
  ]
}